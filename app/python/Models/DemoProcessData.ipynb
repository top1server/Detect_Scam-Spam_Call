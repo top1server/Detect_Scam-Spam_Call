{
 "cells": [
  {
   "cell_type": "markdown",
   "metadata": {},
   "source": [
    "# Xử lí dữ liệu"
   ]
  },
  {
   "cell_type": "markdown",
   "metadata": {},
   "source": [
    "### Thư viện cần dùng"
   ]
  },
  {
   "cell_type": "code",
   "execution_count": 1,
   "metadata": {},
   "outputs": [],
   "source": [
    "import json # đọc file\n",
    "import re # tiền xử lí\n",
    "import string\n",
    "import numpy as np\n",
    "import matplotlib.pyplot as plt # vẽ đồ thị và ma trận nhầm lẫn\n",
    "import seaborn as sns\n",
    "from tqdm.notebook import tqdm\n",
    "from sklearn.metrics import classification_report, confusion_matrix\n",
    "from sklearn.linear_model import LogisticRegression # thuật toán\n",
    "from sklearn.utils import shuffle\n",
    "from sklearn.model_selection import train_test_split\n",
    "from sklearn.preprocessing import LabelEncoder\n",
    "from sklearn.feature_extraction.text import TfidfVectorizer # chuyển từ -> vector\n",
    "from imblearn.over_sampling import SMOTE  #Cân bằng dữ liệu"
   ]
  },
  {
   "cell_type": "markdown",
   "metadata": {},
   "source": [
    "### Đọc dữ liệu từ file JSON"
   ]
  },
  {
   "cell_type": "code",
   "execution_count": 2,
   "metadata": {},
   "outputs": [],
   "source": [
    "with open('dataset.json', 'r', encoding='utf-8') as file:\n",
    "    data = json.load(file)"
   ]
  },
  {
   "cell_type": "markdown",
   "metadata": {},
   "source": [
    "## Xử lí văn bản"
   ]
  },
  {
   "cell_type": "markdown",
   "metadata": {},
   "source": [
    "### Tách nhãn và văn bản từ dữ liệu"
   ]
  },
  {
   "cell_type": "code",
   "execution_count": 6,
   "metadata": {},
   "outputs": [],
   "source": [
    "texts, labels = [], []\n",
    "label_map = {'ham': 0, 'spam': 1}\n",
    "\n",
    "for item in data:\n",
    "    parts = item.split(',', 1)\n",
    "    if len(parts) == 2:\n",
    "        label_str, text = parts\n",
    "        label = label_map.get(label_str.strip().lower())\n",
    "        if label is not None:\n",
    "            labels.append(label)\n",
    "            texts.append(text.strip().lower())"
   ]
  },
  {
   "cell_type": "markdown",
   "metadata": {},
   "source": [
    "### Danh sách các stop words cần loại bỏ"
   ]
  },
  {
   "cell_type": "code",
   "execution_count": 7,
   "metadata": {},
   "outputs": [],
   "source": [
    "\n",
    "stop_words = set([\n",
    "    \"bị\", \"bởi\", \"cả\", \"các\", \"cái\", \"cần\", \"càng\", \"chỉ\", \"chiếc\", \"cho\", \"chứ\", \"chưa\", \"chuyện\",\n",
    "    \"có\", \"có_thể\", \"cứ\", \"của\", \"cùng\", \"cũng\", \"đã\", \"đang\", \"đây\", \"để\", \"đến_nỗi\", \"đều\", \"điều\",\n",
    "    \"do\", \"đó\", \"được\", \"dưới\", \"gì\", \"khi\", \"không\", \"là\", \"lại\", \"lên\", \"lúc\", \"mà\", \"mỗi\", \"này\",\n",
    "    \"nên\", \"nếu\", \"ngay\", \"nhiều\", \"như\", \"nhưng\", \"những\", \"nơi\", \"nữa\", \"phải\", \"qua\", \"ra\", \"rằng\",\n",
    "    \"rằng\", \"rất\", \"rồi\", \"sau\", \"sẽ\", \"so\", \"sự\", \"tại\", \"theo\", \"thì\", \"trên\", \"trước\", \"từ\", \"từng\",\n",
    "    \"và\", \"vẫn\", \"vào\", \"vậy\", \"vì\", \"việc\", \"với\", \"vừa\", \"chà\"\n",
    "])"
   ]
  },
  {
   "cell_type": "markdown",
   "metadata": {},
   "source": [
    "### Hàm tiền xử lý văn bản\n",
    "- Loại bỏ dấu câu\n",
    "- loại bỏ dấu cách thừa\n",
    "- bỏ stop word\n",
    "- chuyển các số thành 'num'\n",
    "- tách câu thành các token "
   ]
  },
  {
   "cell_type": "code",
   "execution_count": 8,
   "metadata": {},
   "outputs": [],
   "source": [
    "def preprocess_text(text):\n",
    "    text = re.sub(f\"[{re.escape(string.punctuation)}]\", \" \", text)\n",
    "    text = re.sub(r'\\s+', ' ', text).strip()\n",
    "    text = re.sub(r'\\d+', 'num', text)\n",
    "    tokens = [token for token in text.split() if token not in stop_words]\n",
    "    return ' '.join(tokens)"
   ]
  },
  {
   "cell_type": "markdown",
   "metadata": {},
   "source": [
    "### Tiền xử lý toàn bộ văn bản"
   ]
  },
  {
   "cell_type": "code",
   "execution_count": 9,
   "metadata": {},
   "outputs": [
    {
     "data": {
      "application/vnd.jupyter.widget-view+json": {
       "model_id": "07f6cee80ab14c7c91760cbb2e95fede",
       "version_major": 2,
       "version_minor": 0
      },
      "text/plain": [
       "Processing texts:   0%|          | 0/6451 [00:00<?, ?it/s]"
      ]
     },
     "metadata": {},
     "output_type": "display_data"
    }
   ],
   "source": [
    "texts = [preprocess_text(text) for text in tqdm(texts, desc=\"Processing texts\")]"
   ]
  },
  {
   "cell_type": "markdown",
   "metadata": {},
   "source": [
    "### Chia dữ liệu thành tập huấn luyện và kiểm tra và cân bằng lại dữ liệu sau đó\n",
    "- Tập train(75%) - tập test(25%)"
   ]
  },
  {
   "cell_type": "code",
   "execution_count": 10,
   "metadata": {},
   "outputs": [],
   "source": [
    "\n",
    "texts_train, texts_test, y_train, y_test = train_test_split(\n",
    "    texts, labels, test_size=0.25, stratify=labels, random_state=42\n",
    ")\n",
    "\n",
    "# Cân bằng dữ liệu chỉ trên tập huấn luyện sử dụng SMOTE\n",
    "tfidf_vectorizer = TfidfVectorizer(max_features=5000)\n",
    "X_train_tfidf = tfidf_vectorizer.fit_transform(texts_train)\n",
    "\n",
    "smote = SMOTE(random_state=42)\n",
    "X_train_resampled, y_train_resampled = smote.fit_resample(X_train_tfidf, y_train)"
   ]
  },
  {
   "cell_type": "markdown",
   "metadata": {},
   "source": [
    "### Mã hóa nhãn(nếu cần)"
   ]
  },
  {
   "cell_type": "code",
   "execution_count": 11,
   "metadata": {},
   "outputs": [],
   "source": [
    "le = LabelEncoder()\n",
    "y_train_enc = le.fit_transform(y_train_resampled)\n",
    "y_test_enc = le.transform(y_test)"
   ]
  },
  {
   "cell_type": "code",
   "execution_count": 12,
   "metadata": {},
   "outputs": [],
   "source": [
    "# Shuffle dữ liệu huấn luyện\n",
    "X_train_resampled, y_train_enc = shuffle(X_train_resampled, y_train_enc, random_state=42)\n",
    "\n",
    "# Vector hóa văn bản sử dụng TF-IDF cho tập kiểm tra\n",
    "X_test_tfidf = tfidf_vectorizer.transform(texts_test)"
   ]
  },
  {
   "cell_type": "markdown",
   "metadata": {},
   "source": [
    "## Huấn luyện mô hình Logistic Regression"
   ]
  },
  {
   "cell_type": "code",
   "execution_count": 13,
   "metadata": {},
   "outputs": [],
   "source": [
    "lr_model = LogisticRegression(C=1.0, max_iter=1000)\n",
    "lr_model.fit(X_train_resampled, y_train_enc)\n",
    "\n",
    "# Dự đoán và đánh giá mô hình\n",
    "y_pred_enc_lr = lr_model.predict(X_test_tfidf)\n",
    "y_pred_lr = le.inverse_transform(y_pred_enc_lr)\n",
    "report_lr = classification_report(y_test, y_pred_lr, output_dict=True, zero_division=0)"
   ]
  },
  {
   "cell_type": "markdown",
   "metadata": {},
   "source": [
    "### In báo cáo chi tiết"
   ]
  },
  {
   "cell_type": "code",
   "execution_count": 14,
   "metadata": {},
   "outputs": [
    {
     "name": "stdout",
     "output_type": "stream",
     "text": [
      "0: Precision=0.96, Recall=0.96, F1-Score=0.96\n",
      "1: Precision=0.89, Recall=0.90, F1-Score=0.90\n",
      "Overall Accuracy: 0.94\n"
     ]
    }
   ],
   "source": [
    "categories = list(report_lr.keys())[:-3]\n",
    "for category in categories:\n",
    "    print(f\"{category}: Precision={report_lr[category]['precision']:.2f}, \"\n",
    "          f\"Recall={report_lr[category]['recall']:.2f}, \"\n",
    "          f\"F1-Score={report_lr[category]['f1-score']:.2f}\")\n",
    "\n",
    "print(f'Overall Accuracy: {report_lr[\"accuracy\"]:.2f}')"
   ]
  },
  {
   "cell_type": "markdown",
   "metadata": {},
   "source": [
    "### Vẽ biểu đồ các chỉ số Precision, Recall, F1-Score"
   ]
  },
  {
   "cell_type": "code",
   "execution_count": 15,
   "metadata": {},
   "outputs": [
    {
     "data": {
      "image/png": "[encoded data removed]",
      "text/plain": [
       "<Figure size 800x600 with 1 Axes>"
      ]
     },
     "metadata": {},
     "output_type": "display_data"
    },
    {
     "data": {
      "image/png": "[encoded data removed]",
      "text/plain": [
       "<Figure size 800x600 with 2 Axes>"
      ]
     },
     "metadata": {},
     "output_type": "display_data"
    }
   ],
   "source": [
    "\n",
    "plt.figure(figsize=(8, 6))\n",
    "plt.plot(categories, [report_lr[cat]['precision'] for cat in categories], marker='o', label='Precision', color='blue')\n",
    "plt.plot(categories, [report_lr[cat]['recall'] for cat in categories], marker='o', label='Recall', color='green')\n",
    "plt.plot(categories, [report_lr[cat]['f1-score'] for cat in categories], marker='o', label='F1-Score', color='red')\n",
    "plt.ylim(0, 1)\n",
    "plt.title('Logistic Regression Metrics')\n",
    "plt.ylabel('Score')\n",
    "plt.legend()\n",
    "plt.xticks(rotation=45)\n",
    "plt.tight_layout()\n",
    "plt.show()\n",
    "\n",
    "# Vẽ ma trận nhầm lẫn\n",
    "cm = confusion_matrix(y_test, y_pred_lr, labels=le.classes_)\n",
    "plt.figure(figsize=(8, 6))\n",
    "sns.heatmap(cm, annot=True, fmt='d', xticklabels=le.classes_, yticklabels=le.classes_, cmap='Blues')\n",
    "plt.title('Logistic Regression Confusion Matrix')\n",
    "plt.xlabel('Predicted')\n",
    "plt.ylabel('True')\n",
    "plt.tight_layout()\n",
    "plt.show()"
   ]
  },
  {
   "cell_type": "markdown",
   "metadata": {},
   "source": [
    "## Dự đoán"
   ]
  },
  {
   "cell_type": "code",
   "execution_count": 16,
   "metadata": {},
   "outputs": [
    {
     "name": "stdout",
     "output_type": "stream",
     "text": [
      "Văn bản nhập vào thuộc về nhãn: 0\n"
     ]
    }
   ],
   "source": [
    "def predict_label(text):\n",
    "    # Tiền xử lý văn bản\n",
    "    processed_text = preprocess_text(text)  # Chỉ nhận một giá trị trả về\n",
    "    \n",
    "    # Chuyển đổi văn bản thành đặc trưng với TF-IDF\n",
    "    text_tfidf = tfidf_vectorizer.transform([processed_text])\n",
    "    \n",
    "    # Dự đoán nhãn với mô hình\n",
    "    prediction = lr_model.predict(text_tfidf)\n",
    "    \n",
    "    # Chuyển đổi nhãn dự đoán thành tên nhãn nếu cần\n",
    "    predicted_label = le.inverse_transform(prediction)\n",
    "    \n",
    "    return predicted_label[0]\n",
    "\n",
    "# Nhập văn bản từ bàn phím\n",
    "user_input = \"Mình đang gặp khó khăn với việc sử dụng thư viện numpy. Mình không biết cách tạo một ma trận\"\n",
    "\n",
    "# Dự đoán nhãn của văn bản\n",
    "predicted_label = predict_label(user_input)\n",
    "\n",
    "print(f\"Văn bản nhập vào thuộc về nhãn: {predicted_label}\")"
   ]
  }
 ],
 "metadata": {
  "kernelspec": {
   "display_name": "Python 3",
   "language": "python",
   "name": "python3"
  },
  "language_info": {
   "codemirror_mode": {
    "name": "ipython",
    "version": 3
   },
   "file_extension": ".py",
   "mimetype": "text/x-python",
   "name": "python",
   "nbconvert_exporter": "python",
   "pygments_lexer": "ipython3",
   "version": "3.12.3"
  }
 },
 "nbformat": 4,
 "nbformat_minor": 2
}
