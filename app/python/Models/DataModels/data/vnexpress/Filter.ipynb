{
 "cells": [
  {
   "cell_type": "markdown",
   "metadata": {},
   "source": [
    "## Khai báo thư viện"
   ]
  },
  {
   "cell_type": "code",
   "execution_count": 1,
   "metadata": {},
   "outputs": [],
   "source": [
    "from selenium import webdriver\n",
    "from selenium.webdriver.chrome.service import Service\n",
    "from selenium.webdriver.common.by import By\n",
    "from selenium.webdriver.common.keys import Keys\n",
    "from selenium.common.exceptions import StaleElementReferenceException, NoSuchElementException\n",
    "\n",
    "import time\n",
    "import os\n",
    "import json"
   ]
  },
  {
   "cell_type": "markdown",
   "metadata": {},
   "source": [
    "## Set up môi trường seleniun"
   ]
  },
  {
   "cell_type": "code",
   "execution_count": 12,
   "metadata": {},
   "outputs": [],
   "source": [
    "chrome_options = webdriver.ChromeOptions()\n",
    "\n",
    "chrome_options.add_argument('--no-sandbox')\n",
    "chrome_options.add_argument('--disable-dev-shm-usage')\n",
    "chrome_options.add_argument(\"--disable-extensions\")\n",
    "chrome_options.add_argument(\"--disable-gpu\")\n",
    "chrome_options.page_load_strategy = \"eager\"\n",
    "MAGAZINE_NAME = \"vnexpress\"\n",
    "HOME_PAGE = \"https://timkiem.vnexpress.net/?q=L%E1%BB%ABa%20%C4%91%E1%BA%A3o\"\n",
    "driver = webdriver.Chrome(options=chrome_options)\n",
    "driver.get(HOME_PAGE)"
   ]
  },
  {
   "cell_type": "code",
   "execution_count": 13,
   "metadata": {},
   "outputs": [
    {
     "name": "stdout",
     "output_type": "stream",
     "text": [
      "Không tìm thấy 'Next Page\n"
     ]
    }
   ],
   "source": [
    "crawled_urls = set()\n",
    "\n",
    "# Giới hạn số trang\n",
    "max_pages = 39\n",
    "current_page = 1\n",
    "\n",
    "while current_page <= max_pages:\n",
    "    # Tìm phần tử chứa kết quả tìm kiếm\n",
    "    articles = driver.find_element(By.ID, 'result_search')\n",
    "\n",
    "    # Tìm tất cả các thẻ h3 trong phần tử chứa kết quả\n",
    "    h3_elements = articles.find_elements(By.TAG_NAME, 'h3')\n",
    "\n",
    "    # Duyệt qua từng thẻ h3 để lấy các link\n",
    "    for h3 in h3_elements:\n",
    "        a_elements = h3.find_elements(By.TAG_NAME, 'a')\n",
    "        for a in a_elements:\n",
    "            href = a.get_attribute('href')\n",
    "            if href:  # Đảm bảo href không rỗng\n",
    "                crawled_urls.add(href)\n",
    "\n",
    "    # Tìm \"Next Page\"\n",
    "    try:\n",
    "        url = driver.find_element(by=By.CLASS_NAME, value=\"next-page\").get_attribute(\"href\")\n",
    "        driver.get(url)\n",
    "        current_page += 1\n",
    "    except Exception as e:\n",
    "        print(\"Không tìm thấy 'Next Page\")\n",
    "        break\n",
    "\n",
    "with open('urls.json', 'w', encoding='utf-8') as file:\n",
    "    json.dump(list(crawled_urls), file, indent=4)\n",
    "driver.close()"
   ]
  }
 ],
 "metadata": {
  "kernelspec": {
   "display_name": "Python 3",
   "language": "python",
   "name": "python3"
  },
  "language_info": {
   "codemirror_mode": {
    "name": "ipython",
    "version": 3
   },
   "file_extension": ".py",
   "mimetype": "text/x-python",
   "name": "python",
   "nbconvert_exporter": "python",
   "pygments_lexer": "ipython3",
   "version": "3.12.3"
  }
 },
 "nbformat": 4,
 "nbformat_minor": 2
}
